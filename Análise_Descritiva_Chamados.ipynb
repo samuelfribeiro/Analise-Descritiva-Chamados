{
  "nbformat": 4,
  "nbformat_minor": 0,
  "metadata": {
    "colab": {
      "name": "Análise Descritiva - Chamados.ipynb",
      "provenance": [],
      "collapsed_sections": [],
      "mount_file_id": "1EUb-cB-eCds3zB9o5G36-r6MmRIpo1Yl",
      "authorship_tag": "ABX9TyMZLl8UISiI+X/3is3g+SuW",
      "include_colab_link": true
    },
    "kernelspec": {
      "name": "python3",
      "display_name": "Python 3"
    },
    "language_info": {
      "name": "python"
    }
  },
  "cells": [
    {
      "cell_type": "markdown",
      "metadata": {
        "id": "view-in-github",
        "colab_type": "text"
      },
      "source": [
        "<a href=\"https://colab.research.google.com/github/samuelfribeiro/Analise-Descritiva-Chamados/blob/main/An%C3%A1lise_Descritiva_Chamados.ipynb\" target=\"_parent\"><img src=\"https://colab.research.google.com/assets/colab-badge.svg\" alt=\"Open In Colab\"/></a>"
      ]
    },
    {
      "cell_type": "markdown",
      "metadata": {
        "id": "aMr86mPzlSr4"
      },
      "source": [
        "#Análise da Base de Chamados do Servicedesk "
      ]
    },
    {
      "cell_type": "markdown",
      "metadata": {
        "id": "z2-6LwX9lgr6"
      },
      "source": [
        "##Apresentação"
      ]
    },
    {
      "cell_type": "markdown",
      "metadata": {
        "id": "Q-iZnwwRlkSr"
      },
      "source": [
        "Essa análise descritiva foi realizada para conhecimento da realidade quanto ao tempo de resolução dos chamados recebidos e com objetivo de levantar os pontos de melhorias a fim de reduzir seu tempo médio.\n",
        "\n",
        "**Fonte de Dados**: Planilha extraída do sistema de Service Desk\n",
        "\n",
        "**Dicionário de Dados**\n",
        "\n",
        "\n",
        "*   **ID**: Identificador único e interno do chamado\n",
        "*   **DESCRICAO**: Descrição do requerimento do usuário\n",
        "*   **NUMERO**: Número único para acompanhamento do chamado\n",
        "*   **DATA_ABERTURA**: Data da abertura do chamado\n",
        "*   **USUARIO_SOLICITANTE**: Usuário que fez a requisição\n",
        "*   **UNIDADE_ORIGEM**: Unidade de lotação do usuário requerente\n",
        "*   **TIPO**: Classificação do chamado quanto à sua natureza (chamado, requisição, mudança ou incidente)\n",
        "*   **ESTADO**: Situação do chamado (aberto ou fechado)\n",
        "*   **IDADE**: Tempo que o chamado levou para ser atendido\n",
        "*   **DATA_ENCERRAMENTO**: Data em que o chamado foi encerrado\n",
        "*   **USUARIO_ENCERRAMENTO**: Usuário que procedeu com o encerramento\n",
        "\n",
        "\n"
      ]
    },
    {
      "cell_type": "markdown",
      "metadata": {
        "id": "rzySWtV86pnO"
      },
      "source": [
        "##Importação das bibliotecas"
      ]
    },
    {
      "cell_type": "code",
      "metadata": {
        "id": "dsdTbYk0lFZe"
      },
      "source": [
        "import pandas as pd\n",
        "import seaborn as sns\n",
        "import matplotlib.pyplot as plt\n",
        "%matplotlib inline"
      ],
      "execution_count": null,
      "outputs": []
    },
    {
      "cell_type": "markdown",
      "metadata": {
        "id": "ciKZ2hcb6vHy"
      },
      "source": [
        "##Carga dos dados"
      ]
    },
    {
      "cell_type": "code",
      "metadata": {
        "colab": {
          "base_uri": "https://localhost:8080/",
          "height": 496
        },
        "id": "odz7wEYclTvQ",
        "outputId": "91c3df9a-b4a7-4a3f-ad7e-eaa27e3905c8"
      },
      "source": [
        "chamados = pd.read_excel('/content/drive/MyDrive/Colab Notebooks/Dados/Chamados CSC/chamados.xlsx')\n",
        "\n",
        "# Filtra os dados de julho de 2021 por estarem incompletos\n",
        "chamados = chamados.query('(DATA_ABERTURA < \"2021-07-01\") or (DATA_ENCERRAMENTO < \"2021-07-01\")')\n",
        "\n",
        "# Cria as colunas de ano / mês\n",
        "chamados['ANO_ABERTURA'] = pd.to_numeric(chamados['DATA_ABERTURA'].dt.strftime(\"%Y\"))\n",
        "chamados['MES_ABERTURA'] = pd.to_numeric(chamados['DATA_ABERTURA'].dt.strftime(\"%m\"))\n",
        "chamados['ANO_ENCERRAMENTO'] = pd.to_numeric(chamados['DATA_ENCERRAMENTO'].dt.strftime(\"%Y\"))\n",
        "chamados['MES_ENCERRAMENTO'] = pd.to_numeric(chamados['DATA_ENCERRAMENTO'].dt.strftime(\"%m\"))\n",
        "\n",
        "chamados.head()"
      ],
      "execution_count": null,
      "outputs": [
        {
          "output_type": "execute_result",
          "data": {
            "text/html": [
              "<div>\n",
              "<style scoped>\n",
              "    .dataframe tbody tr th:only-of-type {\n",
              "        vertical-align: middle;\n",
              "    }\n",
              "\n",
              "    .dataframe tbody tr th {\n",
              "        vertical-align: top;\n",
              "    }\n",
              "\n",
              "    .dataframe thead th {\n",
              "        text-align: right;\n",
              "    }\n",
              "</style>\n",
              "<table border=\"1\" class=\"dataframe\">\n",
              "  <thead>\n",
              "    <tr style=\"text-align: right;\">\n",
              "      <th></th>\n",
              "      <th>ID</th>\n",
              "      <th>DESCRICAO</th>\n",
              "      <th>NUMERO</th>\n",
              "      <th>DATA_ABERTURA</th>\n",
              "      <th>USUARIO_SOLICITANTE</th>\n",
              "      <th>UNIDADE_ORIGEM</th>\n",
              "      <th>TIPO</th>\n",
              "      <th>SERVICO</th>\n",
              "      <th>ULTIMA_ALTERACAO</th>\n",
              "      <th>MODO_ABERTUA</th>\n",
              "      <th>ESTADO</th>\n",
              "      <th>IDADE</th>\n",
              "      <th>DATA_ENCERRAMENTO</th>\n",
              "      <th>USUARIO_ENCERRAMENTO</th>\n",
              "      <th>ANO_ABERTURA</th>\n",
              "      <th>MES_ABERTURA</th>\n",
              "      <th>ANO_ENCERRAMENTO</th>\n",
              "      <th>MES_ENCERRAMENTO</th>\n",
              "    </tr>\n",
              "  </thead>\n",
              "  <tbody>\n",
              "    <tr>\n",
              "      <th>0</th>\n",
              "      <td>7362</td>\n",
              "      <td>Erro - Chamada dos agendados</td>\n",
              "      <td>175</td>\n",
              "      <td>2018-03-06 16:08:31</td>\n",
              "      <td>joao.spagnol</td>\n",
              "      <td>18ª ZE</td>\n",
              "      <td>2.Incidente</td>\n",
              "      <td>Atendimento::Agendamento - Sistema de Agendame...</td>\n",
              "      <td>2018-03-06 18:19:34</td>\n",
              "      <td>Interface Web</td>\n",
              "      <td>Fechado</td>\n",
              "      <td>0.09</td>\n",
              "      <td>2018-03-06 18:19:34</td>\n",
              "      <td>lusiane.braun</td>\n",
              "      <td>2018</td>\n",
              "      <td>3</td>\n",
              "      <td>2018</td>\n",
              "      <td>3</td>\n",
              "    </tr>\n",
              "    <tr>\n",
              "      <th>1</th>\n",
              "      <td>7553</td>\n",
              "      <td>ponto eletrônico</td>\n",
              "      <td>242</td>\n",
              "      <td>2018-03-07 13:29:21</td>\n",
              "      <td>andrade</td>\n",
              "      <td>91ª ZE</td>\n",
              "      <td>2.Incidente</td>\n",
              "      <td>z::3.Equipamentos de Informática::Relógio Ponto</td>\n",
              "      <td>2018-04-17 14:59:16</td>\n",
              "      <td>Interface Web</td>\n",
              "      <td>Fechado</td>\n",
              "      <td>41.00</td>\n",
              "      <td>2018-03-09 14:43:41</td>\n",
              "      <td>andre.hermenegildo</td>\n",
              "      <td>2018</td>\n",
              "      <td>3</td>\n",
              "      <td>2018</td>\n",
              "      <td>3</td>\n",
              "    </tr>\n",
              "    <tr>\n",
              "      <th>2</th>\n",
              "      <td>7705</td>\n",
              "      <td>Publicador intranet</td>\n",
              "      <td>309</td>\n",
              "      <td>2018-03-07 16:13:50</td>\n",
              "      <td>ayrton</td>\n",
              "      <td>SL</td>\n",
              "      <td>3.Requisição de serviço</td>\n",
              "      <td>Conteúdo e Publicações::Site Institucional::TY...</td>\n",
              "      <td>2018-03-09 16:43:54</td>\n",
              "      <td>Interface Web</td>\n",
              "      <td>Fechado</td>\n",
              "      <td>2.00</td>\n",
              "      <td>2018-03-09 16:43:53</td>\n",
              "      <td>andre.hermenegildo</td>\n",
              "      <td>2018</td>\n",
              "      <td>3</td>\n",
              "      <td>2018</td>\n",
              "      <td>3</td>\n",
              "    </tr>\n",
              "    <tr>\n",
              "      <th>3</th>\n",
              "      <td>8131</td>\n",
              "      <td>Breve [979738] - Informação de desligamento [l...</td>\n",
              "      <td>434</td>\n",
              "      <td>2018-03-08 18:37:21</td>\n",
              "      <td>klumb</td>\n",
              "      <td>SGSTI</td>\n",
              "      <td>3.Requisição de serviço</td>\n",
              "      <td>z::9.Outros::Informação de Desligamento - TRE</td>\n",
              "      <td>2018-03-09 14:26:49</td>\n",
              "      <td>Equipe técnica</td>\n",
              "      <td>Fechado</td>\n",
              "      <td>0.83</td>\n",
              "      <td>2018-03-09 14:26:48</td>\n",
              "      <td>diego.kern</td>\n",
              "      <td>2018</td>\n",
              "      <td>3</td>\n",
              "      <td>2018</td>\n",
              "      <td>3</td>\n",
              "    </tr>\n",
              "    <tr>\n",
              "      <th>4</th>\n",
              "      <td>8131</td>\n",
              "      <td>Breve [979738] - Informação de desligamento [l...</td>\n",
              "      <td>434</td>\n",
              "      <td>2018-03-08 18:37:21</td>\n",
              "      <td>klumb</td>\n",
              "      <td>SGSTI</td>\n",
              "      <td>3.Requisição de serviço</td>\n",
              "      <td>z::9.Outros::Informação de Desligamento - TRE</td>\n",
              "      <td>2018-03-09 14:26:49</td>\n",
              "      <td>Equipe técnica</td>\n",
              "      <td>Fechado</td>\n",
              "      <td>0.83</td>\n",
              "      <td>2018-03-09 14:26:48</td>\n",
              "      <td>diego.kern</td>\n",
              "      <td>2018</td>\n",
              "      <td>3</td>\n",
              "      <td>2018</td>\n",
              "      <td>3</td>\n",
              "    </tr>\n",
              "  </tbody>\n",
              "</table>\n",
              "</div>"
            ],
            "text/plain": [
              "     ID  ... MES_ENCERRAMENTO\n",
              "0  7362  ...                3\n",
              "1  7553  ...                3\n",
              "2  7705  ...                3\n",
              "3  8131  ...                3\n",
              "4  8131  ...                3\n",
              "\n",
              "[5 rows x 18 columns]"
            ]
          },
          "metadata": {},
          "execution_count": 4
        }
      ]
    },
    {
      "cell_type": "code",
      "metadata": {
        "colab": {
          "base_uri": "https://localhost:8080/"
        },
        "id": "DU3WGA-Bg3la",
        "outputId": "a56e6de1-80b4-4a9b-e459-38809706e887"
      },
      "source": [
        "chamados.info()"
      ],
      "execution_count": null,
      "outputs": [
        {
          "output_type": "stream",
          "name": "stdout",
          "text": [
            "<class 'pandas.core.frame.DataFrame'>\n",
            "Int64Index: 22462 entries, 0 to 22498\n",
            "Data columns (total 18 columns):\n",
            " #   Column                Non-Null Count  Dtype         \n",
            "---  ------                --------------  -----         \n",
            " 0   ID                    22462 non-null  int64         \n",
            " 1   DESCRICAO             22462 non-null  object        \n",
            " 2   NUMERO                22462 non-null  int64         \n",
            " 3   DATA_ABERTURA         22462 non-null  datetime64[ns]\n",
            " 4   USUARIO_SOLICITANTE   22381 non-null  object        \n",
            " 5   UNIDADE_ORIGEM        21607 non-null  object        \n",
            " 6   TIPO                  22462 non-null  object        \n",
            " 7   SERVICO               22462 non-null  object        \n",
            " 8   ULTIMA_ALTERACAO      22462 non-null  datetime64[ns]\n",
            " 9   MODO_ABERTUA          22462 non-null  object        \n",
            " 10  ESTADO                22462 non-null  object        \n",
            " 11  IDADE                 22462 non-null  float64       \n",
            " 12  DATA_ENCERRAMENTO     22462 non-null  datetime64[ns]\n",
            " 13  USUARIO_ENCERRAMENTO  22462 non-null  object        \n",
            " 14  ANO_ABERTURA          22462 non-null  int64         \n",
            " 15  MES_ABERTURA          22462 non-null  int64         \n",
            " 16  ANO_ENCERRAMENTO      22462 non-null  int64         \n",
            " 17  MES_ENCERRAMENTO      22462 non-null  int64         \n",
            "dtypes: datetime64[ns](3), float64(1), int64(6), object(8)\n",
            "memory usage: 3.3+ MB\n"
          ]
        }
      ]
    },
    {
      "cell_type": "markdown",
      "metadata": {
        "id": "GNuFiXD-t88s"
      },
      "source": [
        "###Cria sub datasets para análises específicas"
      ]
    },
    {
      "cell_type": "code",
      "metadata": {
        "id": "LfWr8l_bopsO"
      },
      "source": [
        "# Dataset por tipo\n",
        "incidentes = chamados.query('TIPO == \"2.Incidente\" or TIPO == \"4.Problema\"')\n",
        "mudancas = chamados.query('TIPO == \"6.Mudança normal\" or TIPO == \"5.Mudança pré-aprovada\"')\n",
        "requisicoes = chamados.query('TIPO == \"3.Requisição de serviço\" or TIPO == \"7.Atividade\"')\n",
        "\n",
        "# Dataset por ano\n",
        "chamados_2018 = chamados.query('ANO_ABERTURA == 2018')\n",
        "chamados_2019 = chamados.query('ANO_ABERTURA == 2019')\n",
        "chamados_2020 = chamados.query('ANO_ABERTURA == 2020')\n",
        "chamados_2021 = chamados.query('ANO_ABERTURA == 2021')"
      ],
      "execution_count": null,
      "outputs": []
    },
    {
      "cell_type": "markdown",
      "metadata": {
        "id": "RKhvRYTt6z1m"
      },
      "source": [
        "##Análise da variável idade do chamado"
      ]
    },
    {
      "cell_type": "code",
      "metadata": {
        "colab": {
          "base_uri": "https://localhost:8080/"
        },
        "id": "20wWTiKX260G",
        "outputId": "294f2333-bd59-484a-c26d-56eff101bbe5"
      },
      "source": [
        "chamados['IDADE'].describe()"
      ],
      "execution_count": null,
      "outputs": [
        {
          "output_type": "execute_result",
          "data": {
            "text/plain": [
              "count    22462.000000\n",
              "mean        35.876329\n",
              "std        105.700935\n",
              "min          0.000000\n",
              "25%          0.150000\n",
              "50%          2.000000\n",
              "75%         18.000000\n",
              "max       1144.000000\n",
              "Name: IDADE, dtype: float64"
            ]
          },
          "metadata": {},
          "execution_count": 7
        }
      ]
    },
    {
      "cell_type": "code",
      "metadata": {
        "colab": {
          "base_uri": "https://localhost:8080/",
          "height": 459
        },
        "id": "Qw0q1Fpt6Npb",
        "outputId": "c4fb9e3f-2d55-4bf4-d233-d986e192767d"
      },
      "source": [
        "plt.figure(figsize=(15, 6))\n",
        "sns.boxplot(chamados['IDADE'])"
      ],
      "execution_count": null,
      "outputs": [
        {
          "output_type": "stream",
          "name": "stderr",
          "text": [
            "/usr/local/lib/python3.7/dist-packages/seaborn/_decorators.py:43: FutureWarning: Pass the following variable as a keyword arg: x. From version 0.12, the only valid positional argument will be `data`, and passing other arguments without an explicit keyword will result in an error or misinterpretation.\n",
            "  FutureWarning\n"
          ]
        },
        {
          "output_type": "execute_result",
          "data": {
            "text/plain": [
              "<matplotlib.axes._subplots.AxesSubplot at 0x7fd387eb57d0>"
            ]
          },
          "metadata": {},
          "execution_count": 8
        },
        {
          "output_type": "display_data",
          "data": {
            "image/png": "[encoded data removed]",
            "text/plain": [
              "<Figure size 1080x432 with 1 Axes>"
            ]
          },
          "metadata": {
            "needs_background": "light"
          }
        }
      ]
    },
    {
      "cell_type": "code",
      "metadata": {
        "colab": {
          "base_uri": "https://localhost:8080/"
        },
        "id": "fkXBpDt4lp-t",
        "outputId": "952b89fe-3096-46e8-e200-fe796fefe9c4"
      },
      "source": [
        "#Cálculo para excluir os valores outliers da análise\n",
        "Q1 = chamados['IDADE'].quantile(.25)\n",
        "Q3 = chamados['IDADE'].quantile(.75)\n",
        "IIQ = Q3-Q1\n",
        "limite_inferior = Q1 - (1.5 * IIQ)\n",
        "limite_superior = Q3 + (1.5 * IIQ)\n",
        "\n",
        "selecao = (chamados['IDADE'] >= limite_inferior) & (chamados['IDADE'] <= limite_superior)\n",
        "\n",
        "df = chamados[selecao]\n",
        "df['IDADE'].describe()\n"
      ],
      "execution_count": null,
      "outputs": [
        {
          "output_type": "execute_result",
          "data": {
            "text/plain": [
              "count    19161.000000\n",
              "mean         5.945070\n",
              "std          9.795634\n",
              "min          0.000000\n",
              "25%          0.100000\n",
              "50%          1.000000\n",
              "75%          7.000000\n",
              "max         44.000000\n",
              "Name: IDADE, dtype: float64"
            ]
          },
          "metadata": {},
          "execution_count": 20
        }
      ]
    },
    {
      "cell_type": "code",
      "metadata": {
        "colab": {
          "base_uri": "https://localhost:8080/",
          "height": 459
        },
        "id": "0nZbqZqelrhK",
        "outputId": "47411259-8d2e-411c-cd19-1054dc8aad5e"
      },
      "source": [
        "#nova avaliação sem os outliers\n",
        "plt.figure(figsize=(15, 6))\n",
        "sns.boxplot(df['IDADE'])"
      ],
      "execution_count": null,
      "outputs": [
        {
          "output_type": "stream",
          "name": "stderr",
          "text": [
            "/usr/local/lib/python3.7/dist-packages/seaborn/_decorators.py:43: FutureWarning: Pass the following variable as a keyword arg: x. From version 0.12, the only valid positional argument will be `data`, and passing other arguments without an explicit keyword will result in an error or misinterpretation.\n",
            "  FutureWarning\n"
          ]
        },
        {
          "output_type": "execute_result",
          "data": {
            "text/plain": [
              "<matplotlib.axes._subplots.AxesSubplot at 0x7fd38682d2d0>"
            ]
          },
          "metadata": {},
          "execution_count": 10
        },
        {
          "output_type": "display_data",
          "data": {
            "image/png": "[encoded data removed]",
            "text/plain": [
              "<Figure size 1080x432 with 1 Axes>"
            ]
          },
          "metadata": {
            "needs_background": "light"
          }
        }
      ]
    },
    {
      "cell_type": "code",
      "metadata": {
        "colab": {
          "base_uri": "https://localhost:8080/",
          "height": 266
        },
        "id": "I3UVHGjE3Yo4",
        "outputId": "88d8dde1-c710-4883-89fe-34773e9b5790"
      },
      "source": [
        "#Análise por tipo do incidente\n",
        "df.groupby('TIPO')['IDADE'].agg(['count', 'mean', 'min', 'max']).round(3)"
      ],
      "execution_count": null,
      "outputs": [
        {
          "output_type": "execute_result",
          "data": {
            "text/html": [
              "<div>\n",
              "<style scoped>\n",
              "    .dataframe tbody tr th:only-of-type {\n",
              "        vertical-align: middle;\n",
              "    }\n",
              "\n",
              "    .dataframe tbody tr th {\n",
              "        vertical-align: top;\n",
              "    }\n",
              "\n",
              "    .dataframe thead th {\n",
              "        text-align: right;\n",
              "    }\n",
              "</style>\n",
              "<table border=\"1\" class=\"dataframe\">\n",
              "  <thead>\n",
              "    <tr style=\"text-align: right;\">\n",
              "      <th></th>\n",
              "      <th>count</th>\n",
              "      <th>mean</th>\n",
              "      <th>min</th>\n",
              "      <th>max</th>\n",
              "    </tr>\n",
              "    <tr>\n",
              "      <th>TIPO</th>\n",
              "      <th></th>\n",
              "      <th></th>\n",
              "      <th></th>\n",
              "      <th></th>\n",
              "    </tr>\n",
              "  </thead>\n",
              "  <tbody>\n",
              "    <tr>\n",
              "      <th>2.Incidente</th>\n",
              "      <td>5236</td>\n",
              "      <td>5.301</td>\n",
              "      <td>0.00</td>\n",
              "      <td>44.0</td>\n",
              "    </tr>\n",
              "    <tr>\n",
              "      <th>3.Requisição de serviço</th>\n",
              "      <td>11064</td>\n",
              "      <td>3.999</td>\n",
              "      <td>0.00</td>\n",
              "      <td>44.0</td>\n",
              "    </tr>\n",
              "    <tr>\n",
              "      <th>4.Problema</th>\n",
              "      <td>8</td>\n",
              "      <td>17.750</td>\n",
              "      <td>3.00</td>\n",
              "      <td>34.0</td>\n",
              "    </tr>\n",
              "    <tr>\n",
              "      <th>5.Mudança pré-aprovada</th>\n",
              "      <td>132</td>\n",
              "      <td>15.374</td>\n",
              "      <td>0.00</td>\n",
              "      <td>43.0</td>\n",
              "    </tr>\n",
              "    <tr>\n",
              "      <th>6.Mudança normal</th>\n",
              "      <td>2611</td>\n",
              "      <td>14.824</td>\n",
              "      <td>0.01</td>\n",
              "      <td>44.0</td>\n",
              "    </tr>\n",
              "    <tr>\n",
              "      <th>7.Atividade</th>\n",
              "      <td>110</td>\n",
              "      <td>9.391</td>\n",
              "      <td>0.00</td>\n",
              "      <td>42.0</td>\n",
              "    </tr>\n",
              "  </tbody>\n",
              "</table>\n",
              "</div>"
            ],
            "text/plain": [
              "                         count    mean   min   max\n",
              "TIPO                                              \n",
              "2.Incidente               5236   5.301  0.00  44.0\n",
              "3.Requisição de serviço  11064   3.999  0.00  44.0\n",
              "4.Problema                   8  17.750  3.00  34.0\n",
              "5.Mudança pré-aprovada     132  15.374  0.00  43.0\n",
              "6.Mudança normal          2611  14.824  0.01  44.0\n",
              "7.Atividade                110   9.391  0.00  42.0"
            ]
          },
          "metadata": {},
          "execution_count": 11
        }
      ]
    },
    {
      "cell_type": "code",
      "metadata": {
        "id": "nApDubBO42ws",
        "colab": {
          "base_uri": "https://localhost:8080/",
          "height": 406
        },
        "outputId": "8ca13454-37e0-49b4-99db-2eda3cafc0f2"
      },
      "source": [
        "plt.figure(figsize=(15, 6))\n",
        "sns.boxplot(x='TIPO', y='IDADE', data=df, orient='v')"
      ],
      "execution_count": null,
      "outputs": [
        {
          "output_type": "execute_result",
          "data": {
            "text/plain": [
              "<matplotlib.axes._subplots.AxesSubplot at 0x7fd384ce7850>"
            ]
          },
          "metadata": {},
          "execution_count": 12
        },
        {
          "output_type": "display_data",
          "data": {
            "image/png": "[encoded data removed]",
            "text/plain": [
              "<Figure size 1080x432 with 1 Axes>"
            ]
          },
          "metadata": {
            "needs_background": "light"
          }
        }
      ]
    },
    {
      "cell_type": "markdown",
      "metadata": {
        "id": "2aIHcGLpxthM"
      },
      "source": [
        "##Análise da variável Unidade solicitante"
      ]
    },
    {
      "cell_type": "code",
      "metadata": {
        "id": "q7V1JkU6x5cM",
        "colab": {
          "base_uri": "https://localhost:8080/",
          "height": 111
        },
        "outputId": "b31c02a9-946f-4ce1-d175-2cb125d04051"
      },
      "source": [
        "chamados_unidades = chamados.groupby('UNIDADE_ORIGEM')['IDADE'].agg(['count']).reset_index()\n",
        "chamados_unidades.rename(columns={\"count\": \"QTDE_CHAMADOS\"}, inplace=True)\n",
        "\n",
        "# Remove as unidades da sti que abrem chamados em nome de outras\n",
        "unidades_sti = ['CSC', 'SADS', 'SAS', 'SAD', 'SGCW', 'SGPTI', 'CSIT', 'SARS', 'SGATI', 'SGMPTI', 'SGSTI']\n",
        "\n",
        "chamados_unidades = chamados_unidades[~chamados_unidades['UNIDADE_ORIGEM'].isin(unidades_sti)]\n",
        "\n",
        "# Seleciona as 10 unidades com maior número de chamados abertos\n",
        "chamados_unidades_top_10 = chamados_unidades.sort_values('QTDE_CHAMADOS', ascending=False).head(10)\n",
        "\n",
        "# Cria o dataframe para o gráfico de comparação entre as top 10 e as demais unidades\n",
        "soma_chamados = chamados_unidades['QTDE_CHAMADOS'].sum()\n",
        "soma_top_10 = chamados_unidades_top_10['QTDE_CHAMADOS'].sum()\n",
        "\n",
        "df_grafico = pd.DataFrame({'UNIDADES': ['Top 10', 'Demais unidades'], 'QTDE_CHAMADOS': [soma_top_10, soma_chamados]})\n",
        "\n",
        "df_grafico"
      ],
      "execution_count": null,
      "outputs": [
        {
          "output_type": "execute_result",
          "data": {
            "text/html": [
              "<div>\n",
              "<style scoped>\n",
              "    .dataframe tbody tr th:only-of-type {\n",
              "        vertical-align: middle;\n",
              "    }\n",
              "\n",
              "    .dataframe tbody tr th {\n",
              "        vertical-align: top;\n",
              "    }\n",
              "\n",
              "    .dataframe thead th {\n",
              "        text-align: right;\n",
              "    }\n",
              "</style>\n",
              "<table border=\"1\" class=\"dataframe\">\n",
              "  <thead>\n",
              "    <tr style=\"text-align: right;\">\n",
              "      <th></th>\n",
              "      <th>UNIDADES</th>\n",
              "      <th>QTDE_CHAMADOS</th>\n",
              "    </tr>\n",
              "  </thead>\n",
              "  <tbody>\n",
              "    <tr>\n",
              "      <th>0</th>\n",
              "      <td>Top 10</td>\n",
              "      <td>5439</td>\n",
              "    </tr>\n",
              "    <tr>\n",
              "      <th>1</th>\n",
              "      <td>Demais unidades</td>\n",
              "      <td>18459</td>\n",
              "    </tr>\n",
              "  </tbody>\n",
              "</table>\n",
              "</div>"
            ],
            "text/plain": [
              "          UNIDADES  QTDE_CHAMADOS\n",
              "0           Top 10           5439\n",
              "1  Demais unidades          18459"
            ]
          },
          "metadata": {},
          "execution_count": 13
        }
      ]
    },
    {
      "cell_type": "code",
      "metadata": {
        "colab": {
          "base_uri": "https://localhost:8080/",
          "height": 265
        },
        "id": "EgihmautPXLN",
        "outputId": "99dcf4ef-3852-4655-995e-e97804747343"
      },
      "source": [
        "df_grafico.plot.pie(y='QTDE_CHAMADOS')"
      ],
      "execution_count": null,
      "outputs": [
        {
          "output_type": "execute_result",
          "data": {
            "text/plain": [
              "<matplotlib.axes._subplots.AxesSubplot at 0x7fd3867631d0>"
            ]
          },
          "metadata": {},
          "execution_count": 14
        },
        {
          "output_type": "display_data",
          "data": {
            "image/png": "[encoded data removed]",
            "text/plain": [
              "<Figure size 432x288 with 1 Axes>"
            ]
          },
          "metadata": {}
        }
      ]
    },
    {
      "cell_type": "code",
      "metadata": {
        "colab": {
          "base_uri": "https://localhost:8080/",
          "height": 359
        },
        "id": "mduKyYXbPXgq",
        "outputId": "651c9510-e293-489c-cc85-46599a1161ae"
      },
      "source": [
        "chamados_unidades_top_10"
      ],
      "execution_count": null,
      "outputs": [
        {
          "output_type": "execute_result",
          "data": {
            "text/html": [
              "<div>\n",
              "<style scoped>\n",
              "    .dataframe tbody tr th:only-of-type {\n",
              "        vertical-align: middle;\n",
              "    }\n",
              "\n",
              "    .dataframe tbody tr th {\n",
              "        vertical-align: top;\n",
              "    }\n",
              "\n",
              "    .dataframe thead th {\n",
              "        text-align: right;\n",
              "    }\n",
              "</style>\n",
              "<table border=\"1\" class=\"dataframe\">\n",
              "  <thead>\n",
              "    <tr style=\"text-align: right;\">\n",
              "      <th></th>\n",
              "      <th>UNIDADE_ORIGEM</th>\n",
              "      <th>QTDE_CHAMADOS</th>\n",
              "    </tr>\n",
              "  </thead>\n",
              "  <tbody>\n",
              "    <tr>\n",
              "      <th>190</th>\n",
              "      <td>SS</td>\n",
              "      <td>967</td>\n",
              "    </tr>\n",
              "    <tr>\n",
              "      <th>176</th>\n",
              "      <td>SLOT</td>\n",
              "      <td>771</td>\n",
              "    </tr>\n",
              "    <tr>\n",
              "      <th>172</th>\n",
              "      <td>SL</td>\n",
              "      <td>641</td>\n",
              "    </tr>\n",
              "    <tr>\n",
              "      <th>156</th>\n",
              "      <td>SE-EJESC</td>\n",
              "      <td>636</td>\n",
              "    </tr>\n",
              "    <tr>\n",
              "      <th>161</th>\n",
              "      <td>SEREF</td>\n",
              "      <td>561</td>\n",
              "    </tr>\n",
              "    <tr>\n",
              "      <th>191</th>\n",
              "      <td>SSACE</td>\n",
              "      <td>479</td>\n",
              "    </tr>\n",
              "    <tr>\n",
              "      <th>121</th>\n",
              "      <td>CRECAD</td>\n",
              "      <td>387</td>\n",
              "    </tr>\n",
              "    <tr>\n",
              "      <th>146</th>\n",
              "      <td>SAPQS</td>\n",
              "      <td>355</td>\n",
              "    </tr>\n",
              "    <tr>\n",
              "      <th>178</th>\n",
              "      <td>SOCE</td>\n",
              "      <td>322</td>\n",
              "    </tr>\n",
              "    <tr>\n",
              "      <th>158</th>\n",
              "      <td>SEB</td>\n",
              "      <td>320</td>\n",
              "    </tr>\n",
              "  </tbody>\n",
              "</table>\n",
              "</div>"
            ],
            "text/plain": [
              "    UNIDADE_ORIGEM  QTDE_CHAMADOS\n",
              "190             SS            967\n",
              "176           SLOT            771\n",
              "172             SL            641\n",
              "156       SE-EJESC            636\n",
              "161          SEREF            561\n",
              "191          SSACE            479\n",
              "121         CRECAD            387\n",
              "146          SAPQS            355\n",
              "178           SOCE            322\n",
              "158            SEB            320"
            ]
          },
          "metadata": {},
          "execution_count": 15
        }
      ]
    },
    {
      "cell_type": "markdown",
      "metadata": {
        "id": "JXwJM0fJn0uv"
      },
      "source": [
        "##Análise Abertura dos Chamados\n"
      ]
    },
    {
      "cell_type": "markdown",
      "metadata": {
        "id": "tWMwX8axpC8S"
      },
      "source": [
        "Análise foi realizada ano a ano para fazer um comparativo distinto"
      ]
    },
    {
      "cell_type": "code",
      "metadata": {
        "id": "vIZJm-XHn7WM",
        "colab": {
          "base_uri": "https://localhost:8080/",
          "height": 405
        },
        "outputId": "b37d632e-1ce2-498c-af03-b2334e734fac"
      },
      "source": [
        "df_grafico = chamados_2018.groupby('MES_ABERTURA')['ID'].agg(['count']).reset_index();\n",
        "df_grafico.rename(columns={'MES_ABERTURA': 'MÊS', 'count': 'QTDE_CHAMADOS'}, inplace=True)\n",
        "\n",
        "fig = plt.figure(figsize=(12,6))\n",
        "sns.barplot(x='MÊS', y='QTDE_CHAMADOS', data = df_grafico)"
      ],
      "execution_count": null,
      "outputs": [
        {
          "output_type": "execute_result",
          "data": {
            "text/plain": [
              "<matplotlib.axes._subplots.AxesSubplot at 0x7fd386763750>"
            ]
          },
          "metadata": {},
          "execution_count": 16
        },
        {
          "output_type": "display_data",
          "data": {
            "image/png": "[encoded data removed]",
            "text/plain": [
              "<Figure size 864x432 with 1 Axes>"
            ]
          },
          "metadata": {
            "needs_background": "light"
          }
        }
      ]
    },
    {
      "cell_type": "code",
      "metadata": {
        "colab": {
          "base_uri": "https://localhost:8080/",
          "height": 405
        },
        "id": "uigi8evJd6ye",
        "outputId": "ec99ef29-512c-4a62-e0d7-3873fd6016ec"
      },
      "source": [
        "df_grafico = chamados_2019.groupby('MES_ABERTURA')['ID'].agg(['count']).reset_index();\n",
        "df_grafico.rename(columns={'MES_ABERTURA': 'MÊS', 'count': 'QTDE_CHAMADOS'}, inplace=True)\n",
        "\n",
        "fig = plt.figure(figsize=(12,6))\n",
        "sns.barplot(x='MÊS', y='QTDE_CHAMADOS', data = df_grafico)"
      ],
      "execution_count": null,
      "outputs": [
        {
          "output_type": "execute_result",
          "data": {
            "text/plain": [
              "<matplotlib.axes._subplots.AxesSubplot at 0x7fd3865fa410>"
            ]
          },
          "metadata": {},
          "execution_count": 17
        },
        {
          "output_type": "display_data",
          "data": {
            "image/png": "[encoded data removed]",
            "text/plain": [
              "<Figure size 864x432 with 1 Axes>"
            ]
          },
          "metadata": {
            "needs_background": "light"
          }
        }
      ]
    },
    {
      "cell_type": "code",
      "metadata": {
        "colab": {
          "base_uri": "https://localhost:8080/",
          "height": 405
        },
        "id": "VQ0reJI4fPxK",
        "outputId": "6ab7ad26-7c8f-4064-cee8-2cc2619e3d0d"
      },
      "source": [
        "df_grafico = chamados_2020.groupby('MES_ABERTURA')['ID'].agg(['count']).reset_index();\n",
        "df_grafico.rename(columns={'MES_ABERTURA': 'MÊS', 'count': 'QTDE_CHAMADOS'}, inplace=True)\n",
        "\n",
        "fig = plt.figure(figsize=(12,6))\n",
        "sns.barplot(x='MÊS', y='QTDE_CHAMADOS', data = df_grafico)"
      ],
      "execution_count": null,
      "outputs": [
        {
          "output_type": "execute_result",
          "data": {
            "text/plain": [
              "<matplotlib.axes._subplots.AxesSubplot at 0x7fd386532dd0>"
            ]
          },
          "metadata": {},
          "execution_count": 18
        },
        {
          "output_type": "display_data",
          "data": {
            "image/png": "[encoded data removed]",
            "text/plain": [
              "<Figure size 864x432 with 1 Axes>"
            ]
          },
          "metadata": {
            "needs_background": "light"
          }
        }
      ]
    },
    {
      "cell_type": "code",
      "metadata": {
        "colab": {
          "base_uri": "https://localhost:8080/",
          "height": 405
        },
        "id": "6YhzeheCf8xq",
        "outputId": "796de9dc-04e5-4102-8831-2543a4059f8c"
      },
      "source": [
        "df_grafico = chamados_2021.groupby('MES_ABERTURA')['ID'].agg(['count']).reset_index();\n",
        "df_grafico.rename(columns={'MES_ABERTURA': 'MÊS', 'count': 'QTDE_CHAMADOS'}, inplace=True)\n",
        "\n",
        "fig = plt.figure(figsize=(12,6))\n",
        "sns.barplot(x='MÊS', y='QTDE_CHAMADOS', data = df_grafico)"
      ],
      "execution_count": null,
      "outputs": [
        {
          "output_type": "execute_result",
          "data": {
            "text/plain": [
              "<matplotlib.axes._subplots.AxesSubplot at 0x7fd3864e6890>"
            ]
          },
          "metadata": {},
          "execution_count": 19
        },
        {
          "output_type": "display_data",
          "data": {
            "image/png": "[encoded data removed]",
            "text/plain": [
              "<Figure size 864x432 with 1 Axes>"
            ]
          },
          "metadata": {
            "needs_background": "light"
          }
        }
      ]
    },
    {
      "cell_type": "markdown",
      "metadata": {
        "id": "USo9xw6NpGtB"
      },
      "source": [
        "##Análise do Estudo Realizado"
      ]
    },
    {
      "cell_type": "markdown",
      "metadata": {
        "id": "kXwn16uVrSPl"
      },
      "source": [
        "**Idade do Chamado**\n",
        "\n",
        "A idade do chamado (tempo entre a abertura e seu encerramento) está fortemente relacionada com o seu tipo.\n",
        "\n",
        "Chamados considerados como \"mudança\" tem uma duração maior do que os demais tipos, o que leva a sugestão de ampliar a equipe destinada ao tratamento das mudanças para que a média geral da idade dos chamados seja reduzida.\n",
        "\n",
        "**Unidade de Origem**\n",
        "\n",
        "Não existe uma distribuição uniforme do número de chamado aberto pelas diversas unidades organizacionais.\n",
        "\n",
        "Existem em torno de 200 unidades, porém, 10 delas são responsáveis pela abertura de aproximandamento 25% dos chamados.\n",
        "\n",
        "Sugere-se um levantamento nessas unidades para identificar a causa do volume de chamados nessas unidades e as possíveis medidas preventivas para melhorar essa distribuição.\n",
        "\n",
        "**Período de Abertura dos Chamados**\n",
        "\n",
        "Não foi identificada uma variação significativa na quantidade de chamados abertos durante os meses do ano.\n",
        "\n",
        "Uma pequena variação para cima pode ser verificada no segundo semestre, quando existe um incremento no volume de atividades das unidades."
      ]
    },
    {
      "cell_type": "code",
      "metadata": {
        "id": "wvkls37qr_28"
      },
      "source": [
        ""
      ],
      "execution_count": null,
      "outputs": []
    }
  ]
}